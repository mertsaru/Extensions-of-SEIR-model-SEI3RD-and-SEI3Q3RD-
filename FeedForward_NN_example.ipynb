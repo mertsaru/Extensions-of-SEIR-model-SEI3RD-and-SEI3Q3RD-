{
  "nbformat": 4,
  "nbformat_minor": 0,
  "metadata": {
    "colab": {
      "name": "FeedForward_NN_example.ipynb",
      "provenance": [],
      "authorship_tag": "ABX9TyPZgZ7OzZlmFO/DJqCYeB69",
      "include_colab_link": true
    },
    "kernelspec": {
      "name": "python3",
      "display_name": "Python 3"
    },
    "language_info": {
      "name": "python"
    }
  },
  "cells": [
    {
      "cell_type": "markdown",
      "metadata": {
        "id": "view-in-github",
        "colab_type": "text"
      },
      "source": [
        "<a href=\"https://colab.research.google.com/github/mertsaru/Extensions-of-SEIR-model-SEI3RD-and-SEI3Q3RD-/blob/main/FeedForward_NN_example.ipynb\" target=\"_parent\"><img src=\"https://colab.research.google.com/assets/colab-badge.svg\" alt=\"Open In Colab\"/></a>"
      ]
    },
    {
      "cell_type": "markdown",
      "source": [
        "Neural Network Example"
      ],
      "metadata": {
        "id": "8Ts6rK9e2JKH"
      }
    },
    {
      "cell_type": "code",
      "execution_count": 1,
      "metadata": {
        "id": "lmi2ALv8FxmT"
      },
      "outputs": [],
      "source": [
        "import matplotlib.pyplot as plt\n",
        "import pandas as pd\n",
        "import numpy as np\n",
        "\n",
        "from sklearn.datasets import load_breast_cancer\n",
        "from sklearn.preprocessing import StandardScaler\n",
        "from sklearn.model_selection import train_test_split\n",
        "\n",
        "import tensorflow as tf\n",
        "\n",
        "from imblearn.over_sampling import RandomOverSampler\n"
      ]
    },
    {
      "cell_type": "markdown",
      "source": [
        "#Preparing Data"
      ],
      "metadata": {
        "id": "6XgNjxkQq2-Y"
      }
    },
    {
      "cell_type": "code",
      "source": [
        "df = load_breast_cancer()"
      ],
      "metadata": {
        "id": "GozV6CAM2viu"
      },
      "execution_count": 2,
      "outputs": []
    },
    {
      "cell_type": "code",
      "source": [
        "X , y = df.data, df.target"
      ],
      "metadata": {
        "id": "9FO5qaWf3cMN"
      },
      "execution_count": 3,
      "outputs": []
    },
    {
      "cell_type": "code",
      "source": [
        "#Normalizing data\n",
        "scaler = StandardScaler()\n",
        "X = scaler.fit_transform(X)"
      ],
      "metadata": {
        "id": "Bj25UKrnrAEc"
      },
      "execution_count": 4,
      "outputs": []
    },
    {
      "cell_type": "code",
      "source": [
        "#Taking nearly equal number of data from each groups\n",
        "sampler = RandomOverSampler()\n",
        "X , y = sampler.fit_resample(X,y)"
      ],
      "metadata": {
        "colab": {
          "base_uri": "https://localhost:8080/"
        },
        "id": "BxQIVLHkrgE6",
        "outputId": "436b2eb6-d85b-4f12-c13d-3fb7c98da7c4"
      },
      "execution_count": null,
      "outputs": [
        {
          "output_type": "execute_result",
          "data": {
            "text/plain": [
              "(array([[ 1.09706398, -2.07333501,  1.26993369, ...,  2.29607613,\n",
              "          2.75062224,  1.93701461],\n",
              "        [ 1.82982061, -0.35363241,  1.68595471, ...,  1.0870843 ,\n",
              "         -0.24388967,  0.28118999],\n",
              "        [ 1.57988811,  0.45618695,  1.56650313, ...,  1.95500035,\n",
              "          1.152255  ,  0.20139121],\n",
              "        ...,\n",
              "        [ 2.11099466,  0.7214726 ,  2.06078553, ...,  1.62915116,\n",
              "         -1.36015829, -0.70909067],\n",
              "        [ 3.77531785,  1.62437465,  3.91022552, ...,  2.251919  ,\n",
              "         -0.42022775, -0.53619332],\n",
              "        [-0.1469182 ,  1.25669804, -0.17337093, ...,  0.27855197,\n",
              "          0.92091237, -0.2740765 ]]),\n",
              " array([[ 1.09706398, -2.07333501,  1.26993369, ...,  2.75062224,\n",
              "          1.93701461,  0.        ],\n",
              "        [ 1.82982061, -0.35363241,  1.68595471, ..., -0.24388967,\n",
              "          0.28118999,  0.        ],\n",
              "        [ 1.57988811,  0.45618695,  1.56650313, ...,  1.152255  ,\n",
              "          0.20139121,  0.        ],\n",
              "        ...,\n",
              "        [ 2.11099466,  0.7214726 ,  2.06078553, ..., -1.36015829,\n",
              "         -0.70909067,  0.        ],\n",
              "        [ 3.77531785,  1.62437465,  3.91022552, ..., -0.42022775,\n",
              "         -0.53619332,  0.        ],\n",
              "        [-0.1469182 ,  1.25669804, -0.17337093, ...,  0.92091237,\n",
              "         -0.2740765 ,  0.        ]]))"
            ]
          },
          "metadata": {},
          "execution_count": 19
        }
      ]
    },
    {
      "cell_type": "code",
      "source": [
        "# Dividing our data into training, test, and validation data.\n",
        "# Training data = 0.6 Test data = 0.2 Validation data = 0.2\n",
        "X_train, X_temp, y_train, y_temp = train_test_split(X,y,test_size = 0.4)\n",
        "X_test, X_valid, y_test, y_valid = train_test_split(X_temp,y_temp,test_size = 0.5)"
      ],
      "metadata": {
        "id": "qgcGY1jtrAM1"
      },
      "execution_count": 8,
      "outputs": []
    },
    {
      "cell_type": "markdown",
      "source": [
        "#Preparing the Model"
      ],
      "metadata": {
        "id": "OY-Nkdd8rMTV"
      }
    },
    {
      "cell_type": "code",
      "source": [
        "#Selecting the Model\n",
        "model = tf.keras.Sequential([\n",
        "    tf.keras.layers.Dense(16,activation='relu'),\n",
        "    tf.keras.layers.Dense(16,activation='relu'),\n",
        "    tf.keras.layers.Dense(1,activation='sigmoid')\n",
        "    ])"
      ],
      "metadata": {
        "id": "8oE0_MMoZSZZ"
      },
      "execution_count": 5,
      "outputs": []
    },
    {
      "cell_type": "code",
      "source": [
        "#Building models parameters\n",
        "model.compile(optimizer=tf.keras.optimizers.Adam(learning_rate=0.001),\n",
        "              loss= tf.keras.losses.BinaryCrossentropy(),\n",
        "              metrics=[\"accuracy\"]\n",
        "              )"
      ],
      "metadata": {
        "id": "ZYAk4fkYnl0p"
      },
      "execution_count": 6,
      "outputs": []
    },
    {
      "cell_type": "markdown",
      "source": [
        "#Running the Model"
      ],
      "metadata": {
        "id": "NOVQXxguqMjP"
      }
    },
    {
      "cell_type": "code",
      "source": [
        "#Learning\n",
        "model.fit(X_train,y_train,\n",
        "          epochs=20,batch_size=16,\n",
        "          validation_data= (X_valid,y_valid))"
      ],
      "metadata": {
        "id": "abZBgLJio-Iu"
      },
      "execution_count": null,
      "outputs": []
    },
    {
      "cell_type": "code",
      "source": [
        "#Getting Score of the Model\n",
        "model.evaluate(X_test,y_test)"
      ],
      "metadata": {
        "colab": {
          "base_uri": "https://localhost:8080/"
        },
        "id": "S-LwTOTkor9v",
        "outputId": "c8c09c09-01d8-4129-e554-ee251bae3364"
      },
      "execution_count": 12,
      "outputs": [
        {
          "output_type": "stream",
          "name": "stdout",
          "text": [
            "4/4 [==============================] - 0s 4ms/step - loss: 0.0980 - accuracy: 0.9649\n"
          ]
        },
        {
          "output_type": "execute_result",
          "data": {
            "text/plain": [
              "[0.09796275943517685, 0.9649122953414917]"
            ]
          },
          "metadata": {},
          "execution_count": 12
        }
      ]
    }
  ]
}
