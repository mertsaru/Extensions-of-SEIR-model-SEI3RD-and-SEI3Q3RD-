{
  "nbformat": 4,
  "nbformat_minor": 0,
  "metadata": {
    "colab": {
      "name": "FeedForward_NN_example.ipynb",
      "provenance": [],
      "authorship_tag": "ABX9TyOU0Ueh14VSHiduYU2F4l4H",
      "include_colab_link": true
    },
    "kernelspec": {
      "name": "python3",
      "display_name": "Python 3"
    },
    "language_info": {
      "name": "python"
    }
  },
  "cells": [
    {
      "cell_type": "markdown",
      "metadata": {
        "id": "view-in-github",
        "colab_type": "text"
      },
      "source": [
        "<a href=\"https://colab.research.google.com/github/mertsaru/Extensions-of-SEIR-model-SEI3RD-and-SEI3Q3RD-/blob/main/FeedForward_NN_example.ipynb\" target=\"_parent\"><img src=\"https://colab.research.google.com/assets/colab-badge.svg\" alt=\"Open In Colab\"/></a>"
      ]
    },
    {
      "cell_type": "markdown",
      "source": [
        "Neural Network Example"
      ],
      "metadata": {
        "id": "8Ts6rK9e2JKH"
      }
    },
    {
      "cell_type": "code",
      "execution_count": 2,
      "metadata": {
        "id": "lmi2ALv8FxmT"
      },
      "outputs": [],
      "source": [
        "import matplotlib.pyplot as plt\n",
        "import pandas as pd\n",
        "import numpy as np\n",
        "\n",
        "from sklearn.datasets import load_breast_cancer\n",
        "from sklearn.preprocessing import StandardScaler\n",
        "from sklearn.model_selection import train_test_split\n",
        "from imblearn.over_sampling import RandomOverSampler\n",
        "\n",
        "import tensorflow as tf"
      ]
    },
    {
      "cell_type": "markdown",
      "source": [
        "#Preparing Data"
      ],
      "metadata": {
        "id": "6XgNjxkQq2-Y"
      }
    },
    {
      "cell_type": "code",
      "source": [
        "df = load_breast_cancer()"
      ],
      "metadata": {
        "id": "GozV6CAM2viu"
      },
      "execution_count": 3,
      "outputs": []
    },
    {
      "cell_type": "code",
      "source": [
        "X , y = df.data, df.target"
      ],
      "metadata": {
        "id": "9FO5qaWf3cMN"
      },
      "execution_count": 4,
      "outputs": []
    },
    {
      "cell_type": "code",
      "source": [
        "#Normalizing data\n",
        "scaler = StandardScaler()\n",
        "X = scaler.fit_transform(X)"
      ],
      "metadata": {
        "id": "Bj25UKrnrAEc"
      },
      "execution_count": 5,
      "outputs": []
    },
    {
      "cell_type": "code",
      "source": [
        "#Taking nearly equal number of data from each groups\n",
        "sampler = RandomOverSampler()\n",
        "X , y = sampler.fit_resample(X,y)"
      ],
      "metadata": {
        "id": "BxQIVLHkrgE6"
      },
      "execution_count": 6,
      "outputs": []
    },
    {
      "cell_type": "code",
      "source": [
        "# Dividing our data into training, test, and validation data.\n",
        "# Training data = 0.6 Test data = 0.2 Validation data = 0.2\n",
        "X_train, X_temp, y_train, y_temp = train_test_split(X,y,test_size = 0.4)\n",
        "X_test, X_valid, y_test, y_valid = train_test_split(X_temp,y_temp,test_size = 0.5)"
      ],
      "metadata": {
        "id": "qgcGY1jtrAM1"
      },
      "execution_count": 7,
      "outputs": []
    },
    {
      "cell_type": "markdown",
      "source": [
        "#Preparing the Model"
      ],
      "metadata": {
        "id": "OY-Nkdd8rMTV"
      }
    },
    {
      "cell_type": "code",
      "source": [
        "#Selecting the Model\n",
        "model = tf.keras.Sequential([\n",
        "    tf.keras.layers.Dense(16,activation='relu'),\n",
        "    tf.keras.layers.Dense(16,activation='relu'),\n",
        "    tf.keras.layers.Dense(1,activation='sigmoid')\n",
        "    ])"
      ],
      "metadata": {
        "id": "8oE0_MMoZSZZ"
      },
      "execution_count": 8,
      "outputs": []
    },
    {
      "cell_type": "code",
      "source": [
        "#Building models parameters\n",
        "model.compile(optimizer=tf.keras.optimizers.Adam(learning_rate=0.001),\n",
        "              loss= tf.keras.losses.BinaryCrossentropy(),\n",
        "              metrics=['accuracy']\n",
        "              )"
      ],
      "metadata": {
        "id": "ZYAk4fkYnl0p"
      },
      "execution_count": 9,
      "outputs": []
    },
    {
      "cell_type": "markdown",
      "source": [
        "#Running the Model"
      ],
      "metadata": {
        "id": "NOVQXxguqMjP"
      }
    },
    {
      "cell_type": "code",
      "source": [
        "#Learning\n",
        "history = model.fit(X_train,y_train, epochs=20, batch_size=16, validation_data= (X_valid,y_valid))"
      ],
      "metadata": {
        "colab": {
          "base_uri": "https://localhost:8080/"
        },
        "id": "abZBgLJio-Iu",
        "outputId": "755a3c88-63bb-4536-8b0a-bc1ca8fefdaf"
      },
      "execution_count": 10,
      "outputs": [
        {
          "output_type": "stream",
          "name": "stdout",
          "text": [
            "Epoch 1/20\n",
            "27/27 [==============================] - 1s 7ms/step - loss: 0.6416 - accuracy: 0.5491 - val_loss: 0.5474 - val_accuracy: 0.6643\n",
            "Epoch 2/20\n",
            "27/27 [==============================] - 0s 2ms/step - loss: 0.4684 - accuracy: 0.7827 - val_loss: 0.4261 - val_accuracy: 0.8182\n",
            "Epoch 3/20\n",
            "27/27 [==============================] - 0s 2ms/step - loss: 0.3647 - accuracy: 0.8668 - val_loss: 0.3259 - val_accuracy: 0.8951\n",
            "Epoch 4/20\n",
            "27/27 [==============================] - 0s 4ms/step - loss: 0.2850 - accuracy: 0.9136 - val_loss: 0.2567 - val_accuracy: 0.9021\n",
            "Epoch 5/20\n",
            "27/27 [==============================] - 0s 3ms/step - loss: 0.2291 - accuracy: 0.9299 - val_loss: 0.2083 - val_accuracy: 0.9231\n",
            "Epoch 6/20\n",
            "27/27 [==============================] - 0s 3ms/step - loss: 0.1890 - accuracy: 0.9416 - val_loss: 0.1714 - val_accuracy: 0.9720\n",
            "Epoch 7/20\n",
            "27/27 [==============================] - 0s 2ms/step - loss: 0.1612 - accuracy: 0.9603 - val_loss: 0.1423 - val_accuracy: 0.9790\n",
            "Epoch 8/20\n",
            "27/27 [==============================] - 0s 2ms/step - loss: 0.1423 - accuracy: 0.9673 - val_loss: 0.1206 - val_accuracy: 0.9860\n",
            "Epoch 9/20\n",
            "27/27 [==============================] - 0s 2ms/step - loss: 0.1271 - accuracy: 0.9673 - val_loss: 0.1072 - val_accuracy: 0.9790\n",
            "Epoch 10/20\n",
            "27/27 [==============================] - 0s 2ms/step - loss: 0.1160 - accuracy: 0.9650 - val_loss: 0.0967 - val_accuracy: 0.9790\n",
            "Epoch 11/20\n",
            "27/27 [==============================] - 0s 2ms/step - loss: 0.1075 - accuracy: 0.9673 - val_loss: 0.0877 - val_accuracy: 0.9790\n",
            "Epoch 12/20\n",
            "27/27 [==============================] - 0s 2ms/step - loss: 0.1006 - accuracy: 0.9696 - val_loss: 0.0793 - val_accuracy: 0.9790\n",
            "Epoch 13/20\n",
            "27/27 [==============================] - 0s 2ms/step - loss: 0.0939 - accuracy: 0.9720 - val_loss: 0.0754 - val_accuracy: 0.9790\n",
            "Epoch 14/20\n",
            "27/27 [==============================] - 0s 2ms/step - loss: 0.0885 - accuracy: 0.9743 - val_loss: 0.0696 - val_accuracy: 0.9790\n",
            "Epoch 15/20\n",
            "27/27 [==============================] - 0s 2ms/step - loss: 0.0834 - accuracy: 0.9766 - val_loss: 0.0645 - val_accuracy: 0.9790\n",
            "Epoch 16/20\n",
            "27/27 [==============================] - 0s 3ms/step - loss: 0.0798 - accuracy: 0.9790 - val_loss: 0.0606 - val_accuracy: 0.9790\n",
            "Epoch 17/20\n",
            "27/27 [==============================] - 0s 2ms/step - loss: 0.0759 - accuracy: 0.9790 - val_loss: 0.0576 - val_accuracy: 0.9790\n",
            "Epoch 18/20\n",
            "27/27 [==============================] - 0s 2ms/step - loss: 0.0734 - accuracy: 0.9790 - val_loss: 0.0555 - val_accuracy: 0.9790\n",
            "Epoch 19/20\n",
            "27/27 [==============================] - 0s 2ms/step - loss: 0.0703 - accuracy: 0.9766 - val_loss: 0.0525 - val_accuracy: 0.9790\n",
            "Epoch 20/20\n",
            "27/27 [==============================] - 0s 2ms/step - loss: 0.0674 - accuracy: 0.9743 - val_loss: 0.0497 - val_accuracy: 0.9790\n"
          ]
        }
      ]
    },
    {
      "cell_type": "code",
      "source": [
        "#Getting Score of the Model\n",
        "model.evaluate(X_test,y_test)"
      ],
      "metadata": {
        "colab": {
          "base_uri": "https://localhost:8080/"
        },
        "id": "S-LwTOTkor9v",
        "outputId": "3c0db528-095b-4939-d6e7-7d60e9f39bde"
      },
      "execution_count": 11,
      "outputs": [
        {
          "output_type": "stream",
          "name": "stdout",
          "text": [
            "5/5 [==============================] - 0s 2ms/step - loss: 0.0534 - accuracy: 0.9860\n"
          ]
        },
        {
          "output_type": "execute_result",
          "data": {
            "text/plain": [
              "[0.05339120700955391, 0.9860140085220337]"
            ]
          },
          "metadata": {},
          "execution_count": 11
        }
      ]
    },
    {
      "cell_type": "code",
      "source": [
        "plt.plot(history.history['accuracy'], label= 'train_acc')\n",
        "plt.plot(history.history['val_accuracy'], label = 'val_acc')\n",
        "plt.xlabel('Epochs')\n",
        "plt.ylabel('Accuracy')\n",
        "plt.title('Model Accuracy')\n",
        "plt.legend()\n",
        "plt.show()"
      ],
      "metadata": {
        "id": "iqBKaokXYwAs",
        "outputId": "82f96b46-263d-4d2d-bc6b-2f8dcfcdae61",
        "colab": {
          "base_uri": "https://localhost:8080/",
          "height": 295
        }
      },
      "execution_count": 12,
      "outputs": [
        {
          "output_type": "display_data",
          "data": {
            "text/plain": [
              "<Figure size 432x288 with 1 Axes>"
            ],
            "image/png": "[encoded data removed]"
          },
          "metadata": {
            "needs_background": "light"
          }
        }
      ]
    },
    {
      "cell_type": "code",
      "source": [
        "plt.plot(history.history['loss'], label= 'train_loss')\n",
        "plt.plot(history.history['val_loss'], label = 'val_loss')\n",
        "plt.xlabel('Epochs')\n",
        "plt.ylabel('Loss')\n",
        "plt.title('Model Loss')\n",
        "plt.legend()\n",
        "plt.show()"
      ],
      "metadata": {
        "colab": {
          "base_uri": "https://localhost:8080/",
          "height": 295
        },
        "id": "XRejrK2gVQtn",
        "outputId": "1d8833ac-02b7-4d10-a9c1-f466fdacd6e1"
      },
      "execution_count": 13,
      "outputs": [
        {
          "output_type": "display_data",
          "data": {
            "text/plain": [
              "<Figure size 432x288 with 1 Axes>"
            ],
            "image/png": "[encoded data removed]"
          },
          "metadata": {
            "needs_background": "light"
          }
        }
      ]
    }
  ]
}